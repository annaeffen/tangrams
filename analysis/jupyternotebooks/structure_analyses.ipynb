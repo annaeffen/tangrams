{
 "cells": [
  {
   "cell_type": "markdown",
   "metadata": {},
   "source": [
    "<div id=\"toc\"> </div>"
   ]
  },
  {
   "cell_type": "markdown",
   "metadata": {},
   "source": [
    "# Import lots of stuff"
   ]
  },
  {
   "cell_type": "code",
   "execution_count": 2,
   "metadata": {},
   "outputs": [],
   "source": [
    "import sys\n",
    "sys.path.append('../')"
   ]
  },
  {
   "cell_type": "code",
   "execution_count": 3,
   "metadata": {},
   "outputs": [],
   "source": [
    "%load_ext autoreload\n",
    "%autoreload 2"
   ]
  },
  {
   "cell_type": "code",
   "execution_count": 15,
   "metadata": {},
   "outputs": [],
   "source": [
    "import math\n",
    "import csv\n",
    "import os\n",
    "import pandas as pd\n",
    "import numpy as np\n",
    "import networkx as nx\n",
    "import matplotlib.pyplot as plt\n",
    "import scipy.spatial.distance as distance\n",
    "import seaborn as sns\n",
    "import spacy\n",
    "\n",
    "import textacy\n",
    "import textacy.io\n",
    "from utils.nlp_utils import lemmatize_doc\n",
    "from sklearn import manifold\n",
    "from itertools import combinations\n",
    "from collections import Counter\n",
    "from spacy.lang.en import English\n",
    "from spacy.attrs import POS\n",
    "\n",
    "pd.set_option('display.max_rows', 500)"
   ]
  },
  {
   "cell_type": "markdown",
   "metadata": {},
   "source": [
    "initialize spacy"
   ]
  },
  {
   "cell_type": "code",
   "execution_count": 5,
   "metadata": {},
   "outputs": [],
   "source": [
    "nlp = spacy.load('en_core_web_lg')"
   ]
  },
  {
   "cell_type": "markdown",
   "metadata": {},
   "source": [
    "# Preprocess data for analyses"
   ]
  },
  {
   "cell_type": "code",
   "execution_count": 6,
   "metadata": {},
   "outputs": [],
   "source": [
    "version_to_use = 'tangramsSequential_collapsed'"
   ]
  },
  {
   "cell_type": "markdown",
   "metadata": {},
   "source": [
    "## Import annotated file & tag"
   ]
  },
  {
   "cell_type": "code",
   "execution_count": 7,
   "metadata": {
    "scrolled": true
   },
   "outputs": [],
   "source": [
    "d_raw = pd.read_csv('../../data/{}.csv'.format(version_to_use))#.rename(index=str, columns={\"contents\": \"text\"})\n",
    "d_raw['text'] = [nlp(text) for text in d_raw['contents']]"
   ]
  },
  {
   "cell_type": "code",
   "execution_count": 8,
   "metadata": {},
   "outputs": [
    {
     "name": "stdout",
     "output_type": "stream",
     "text": [
      "man on one leg arm left and one leg right\n"
     ]
    }
   ],
   "source": [
    "for s in (d_raw.iloc[-1].text.sents) :\n",
    "    print(s)"
   ]
  },
  {
   "cell_type": "markdown",
   "metadata": {},
   "source": [
    "## Run spellchecker (using conservative vectors)"
   ]
  },
  {
   "cell_type": "code",
   "execution_count": null,
   "metadata": {},
   "outputs": [],
   "source": [
    "from utils import nlp_utils as utils\n",
    "conservative_vectors = spacy.load('en_core_web_sm')"
   ]
  },
  {
   "cell_type": "code",
   "execution_count": null,
   "metadata": {},
   "outputs": [],
   "source": [
    "print(len(conservative_vectors.vocab))"
   ]
  },
  {
   "cell_type": "code",
   "execution_count": null,
   "metadata": {},
   "outputs": [],
   "source": [
    "utils.building_spell_correction_dictionary(\n",
    "    d_raw.query('taskVersion == \"cued\"'), \n",
    "    conservative_vectors.vocab, \n",
    "    []\n",
    ")"
   ]
  },
  {
   "cell_type": "markdown",
   "metadata": {},
   "source": [
    "## Get list of all game ids"
   ]
  },
  {
   "cell_type": "code",
   "execution_count": 9,
   "metadata": {},
   "outputs": [],
   "source": [
    "d = d_raw.copy()"
   ]
  },
  {
   "cell_type": "code",
   "execution_count": 10,
   "metadata": {},
   "outputs": [
    {
     "data": {
      "text/plain": [
       "Index(['gameid', 'trialNum', 'repetitionNum', 'intendedName', 'contents',\n",
       "       'numRawWords', 'correct', 'text'],\n",
       "      dtype='object')"
      ]
     },
     "execution_count": 10,
     "metadata": {},
     "output_type": "execute_result"
    }
   ],
   "source": [
    "d_raw.columns"
   ]
  },
  {
   "cell_type": "code",
   "execution_count": 11,
   "metadata": {},
   "outputs": [
    {
     "name": "stdout",
     "output_type": "stream",
     "text": [
      "['0057-414228f8-c268-40d6-9349-b35df4f080d9', '0349-951c1418-40e9-48b3-8290-7ed4461f4d54', '0413-e4a76b36-4367-4e30-abf9-93e823913630', '0461-f522f8f4-37dc-4bb0-89bf-9f6bcf43274a', '0711-b03679d3-9904-4263-bd2f-8ec8e7a45af7']\n",
      "83\n"
     ]
    }
   ],
   "source": [
    "gameidList = pd.unique(d.gameid.ravel()).tolist()\n",
    "print(gameidList[0:5])\n",
    "print(len(gameidList))"
   ]
  },
  {
   "cell_type": "markdown",
   "metadata": {},
   "source": [
    "## Get list of all tangram names"
   ]
  },
  {
   "cell_type": "code",
   "execution_count": 12,
   "metadata": {},
   "outputs": [
    {
     "name": "stdout",
     "output_type": "stream",
     "text": [
      "['A', 'B', 'C', 'D', 'E', 'F', 'G', 'H', 'I', 'J', 'K', 'L']\n"
     ]
    }
   ],
   "source": [
    "tangramList = ['A', 'B', 'C', 'D', 'E', 'F', 'G', 'H', 'I', 'J', 'K', 'L']\n",
    "print(tangramList)"
   ]
  },
  {
   "cell_type": "markdown",
   "metadata": {},
   "source": [
    "# What are most common words & phrases to reduce? "
   ]
  },
  {
   "cell_type": "markdown",
   "metadata": {},
   "source": [
    "Strangely, spacy has no n-gram function, so we use textacy, a convenience wrapper around spacy"
   ]
  },
  {
   "cell_type": "code",
   "execution_count": 17,
   "metadata": {},
   "outputs": [],
   "source": [
    "d['doc'] = [textacy.make_spacy_doc(row, lang='en_core_web_lg') for row in d['contents']]"
   ]
  },
  {
   "cell_type": "code",
   "execution_count": 38,
   "metadata": {},
   "outputs": [],
   "source": [
    "d['tokens'] = [[token.text for token in l if not token.is_punct] for l in d['text']]\n",
    "d['lemmas'] = [lemmatize_doc(text) for text in d['text']]\n",
    "d['pos'] = [[token.pos_ for token in l if not token.is_punct] for l in d['text']]\n",
    "d['noun_chunks'] = [list(l.noun_chunks) for l in d['text']]\n",
    "d['numWords'] = [len([token for token in l if not token.is_punct]) for l in d['text']]"
   ]
  },
  {
   "cell_type": "code",
   "execution_count": 43,
   "metadata": {},
   "outputs": [],
   "source": [
    "d['unigrams'] = [list(textacy.extract.ngrams(nlp(' '.join(doc)), 1, filter_stops = False)) for doc in d['lemmas']]\n",
    "\n",
    "d['bigrams'] = [list(textacy.extract.ngrams(nlp(' '.join(doc)), 2, filter_stops = False)) for doc in d['lemmas']]\n",
    "\n",
    "d['trigrams'] = [list(textacy.extract.ngrams(nlp(' '.join(doc)), 3, filter_stops = False)) for doc in d['lemmas']]"
   ]
  },
  {
   "cell_type": "code",
   "execution_count": 44,
   "metadata": {
    "collapsed": true,
    "jupyter": {
     "outputs_hidden": true
    }
   },
   "outputs": [
    {
     "data": {
      "text/html": [
       "<div>\n",
       "<style scoped>\n",
       "    .dataframe tbody tr th:only-of-type {\n",
       "        vertical-align: middle;\n",
       "    }\n",
       "\n",
       "    .dataframe tbody tr th {\n",
       "        vertical-align: top;\n",
       "    }\n",
       "\n",
       "    .dataframe thead th {\n",
       "        text-align: right;\n",
       "    }\n",
       "</style>\n",
       "<table border=\"1\" class=\"dataframe\">\n",
       "  <thead>\n",
       "    <tr style=\"text-align: right;\">\n",
       "      <th></th>\n",
       "      <th>gameid</th>\n",
       "      <th>trialNum</th>\n",
       "      <th>repetitionNum</th>\n",
       "      <th>intendedName</th>\n",
       "      <th>contents</th>\n",
       "      <th>numRawWords</th>\n",
       "      <th>correct</th>\n",
       "      <th>text</th>\n",
       "      <th>doc</th>\n",
       "      <th>unigrams</th>\n",
       "      <th>bigrams</th>\n",
       "      <th>trigrams</th>\n",
       "      <th>tokens</th>\n",
       "      <th>lemmas</th>\n",
       "      <th>pos</th>\n",
       "      <th>noun_chunks</th>\n",
       "      <th>numWords</th>\n",
       "    </tr>\n",
       "  </thead>\n",
       "  <tbody>\n",
       "    <tr>\n",
       "      <th>0</th>\n",
       "      <td>0057-414228f8-c268-40d6-9349-b35df4f080d9</td>\n",
       "      <td>1</td>\n",
       "      <td>1</td>\n",
       "      <td>B</td>\n",
       "      <td>looking for a diamond at the top, triangle poi...</td>\n",
       "      <td>47</td>\n",
       "      <td>1</td>\n",
       "      <td>(looking, for, a, diamond, at, the, top, ,, tr...</td>\n",
       "      <td>(looking, for, a, diamond, at, the, top, ,, tr...</td>\n",
       "      <td>[(look), (for), (a), (diamond), (at), (the), (...</td>\n",
       "      <td>[(look, for), (for, a), (a, diamond), (diamond...</td>\n",
       "      <td>[(look, for, a), (for, a, diamond), (a, diamon...</td>\n",
       "      <td>[looking, for, a, diamond, at, the, top, trian...</td>\n",
       "      <td>[look, for, a, diamond, at, the, top, triangle...</td>\n",
       "      <td>[VERB, ADP, DET, NOUN, ADP, DET, NOUN, NOUN, V...</td>\n",
       "      <td>[(a, diamond), (the, left), (a, person), (thei...</td>\n",
       "      <td>48</td>\n",
       "    </tr>\n",
       "    <tr>\n",
       "      <th>1</th>\n",
       "      <td>0057-414228f8-c268-40d6-9349-b35df4f080d9</td>\n",
       "      <td>2</td>\n",
       "      <td>1</td>\n",
       "      <td>G</td>\n",
       "      <td>this one looks like a seal</td>\n",
       "      <td>6</td>\n",
       "      <td>0</td>\n",
       "      <td>(this, one, looks, like, a, seal)</td>\n",
       "      <td>(this, one, looks, like, a, seal)</td>\n",
       "      <td>[(this), (one), (look), (like), (a), (seal)]</td>\n",
       "      <td>[(this, one), (one, look), (look, like), (like...</td>\n",
       "      <td>[(this, one, look), (one, look, like), (look, ...</td>\n",
       "      <td>[this, one, looks, like, a, seal]</td>\n",
       "      <td>[this, one, look, like, a, seal]</td>\n",
       "      <td>[DET, NUM, VERB, SCONJ, DET, NOUN]</td>\n",
       "      <td>[(a, seal)]</td>\n",
       "      <td>6</td>\n",
       "    </tr>\n",
       "    <tr>\n",
       "      <th>2</th>\n",
       "      <td>0057-414228f8-c268-40d6-9349-b35df4f080d9</td>\n",
       "      <td>3</td>\n",
       "      <td>1</td>\n",
       "      <td>K</td>\n",
       "      <td>this one looks like a small dog balancing a ba...</td>\n",
       "      <td>13</td>\n",
       "      <td>0</td>\n",
       "      <td>(this, one, looks, like, a, small, dog, balanc...</td>\n",
       "      <td>(this, one, looks, like, a, small, dog, balanc...</td>\n",
       "      <td>[(this), (one), (look), (like), (a), (small), ...</td>\n",
       "      <td>[(this, one), (one, look), (look, like), (like...</td>\n",
       "      <td>[(this, one, look), (one, look, like), (look, ...</td>\n",
       "      <td>[this, one, looks, like, a, small, dog, balanc...</td>\n",
       "      <td>[this, one, look, like, a, small, dog, balance...</td>\n",
       "      <td>[DET, NUM, VERB, SCONJ, DET, ADJ, NOUN, VERB, ...</td>\n",
       "      <td>[(a, small, dog), (a, ball), (its, nose)]</td>\n",
       "      <td>13</td>\n",
       "    </tr>\n",
       "    <tr>\n",
       "      <th>3</th>\n",
       "      <td>0057-414228f8-c268-40d6-9349-b35df4f080d9</td>\n",
       "      <td>4</td>\n",
       "      <td>1</td>\n",
       "      <td>A</td>\n",
       "      <td>this looks like one of the spy vs spy guys loo...</td>\n",
       "      <td>21</td>\n",
       "      <td>1</td>\n",
       "      <td>(this, looks, like, one, of, the, spy, vs, spy...</td>\n",
       "      <td>(this, looks, like, one, of, the, spy, vs, spy...</td>\n",
       "      <td>[(this), (look), (like), (one), (of), (the), (...</td>\n",
       "      <td>[(this, look), (look, like), (like, one), (one...</td>\n",
       "      <td>[(this, look, like), (look, like, one), (like,...</td>\n",
       "      <td>[this, looks, like, one, of, the, spy, vs, spy...</td>\n",
       "      <td>[this, look, like, one, of, the, spy, vs, spy,...</td>\n",
       "      <td>[DET, VERB, SCONJ, NUM, ADP, DET, NOUN, ADP, N...</td>\n",
       "      <td>[(the, spy), (spy, guys), (a, flag), (his, rig...</td>\n",
       "      <td>21</td>\n",
       "    </tr>\n",
       "    <tr>\n",
       "      <th>4</th>\n",
       "      <td>0057-414228f8-c268-40d6-9349-b35df4f080d9</td>\n",
       "      <td>5</td>\n",
       "      <td>1</td>\n",
       "      <td>J</td>\n",
       "      <td>this is a diamond on top of what looks like a ...</td>\n",
       "      <td>20</td>\n",
       "      <td>1</td>\n",
       "      <td>(this, is, a, diamond, on, top, of, what, look...</td>\n",
       "      <td>(this, is, a, diamond, on, top, of, what, look...</td>\n",
       "      <td>[(this), (be), (a), (diamond), (on), (top), (o...</td>\n",
       "      <td>[(this, be), (be, a), (a, diamond), (diamond, ...</td>\n",
       "      <td>[(this, be, a), (be, a, diamond), (a, diamond,...</td>\n",
       "      <td>[this, is, a, diamond, on, top, of, what, look...</td>\n",
       "      <td>[this, be, a, diamond, on, top, of, what, look...</td>\n",
       "      <td>[DET, AUX, DET, NOUN, ADP, NOUN, ADP, PRON, VE...</td>\n",
       "      <td>[(a, diamond), (top), (what), (a, state, -, to...</td>\n",
       "      <td>19</td>\n",
       "    </tr>\n",
       "  </tbody>\n",
       "</table>\n",
       "</div>"
      ],
      "text/plain": [
       "                                      gameid  trialNum  repetitionNum  \\\n",
       "0  0057-414228f8-c268-40d6-9349-b35df4f080d9         1              1   \n",
       "1  0057-414228f8-c268-40d6-9349-b35df4f080d9         2              1   \n",
       "2  0057-414228f8-c268-40d6-9349-b35df4f080d9         3              1   \n",
       "3  0057-414228f8-c268-40d6-9349-b35df4f080d9         4              1   \n",
       "4  0057-414228f8-c268-40d6-9349-b35df4f080d9         5              1   \n",
       "\n",
       "  intendedName                                           contents  \\\n",
       "0            B  looking for a diamond at the top, triangle poi...   \n",
       "1            G                         this one looks like a seal   \n",
       "2            K  this one looks like a small dog balancing a ba...   \n",
       "3            A  this looks like one of the spy vs spy guys loo...   \n",
       "4            J  this is a diamond on top of what looks like a ...   \n",
       "\n",
       "   numRawWords  correct                                               text  \\\n",
       "0           47        1  (looking, for, a, diamond, at, the, top, ,, tr...   \n",
       "1            6        0                  (this, one, looks, like, a, seal)   \n",
       "2           13        0  (this, one, looks, like, a, small, dog, balanc...   \n",
       "3           21        1  (this, looks, like, one, of, the, spy, vs, spy...   \n",
       "4           20        1  (this, is, a, diamond, on, top, of, what, look...   \n",
       "\n",
       "                                                 doc  \\\n",
       "0  (looking, for, a, diamond, at, the, top, ,, tr...   \n",
       "1                  (this, one, looks, like, a, seal)   \n",
       "2  (this, one, looks, like, a, small, dog, balanc...   \n",
       "3  (this, looks, like, one, of, the, spy, vs, spy...   \n",
       "4  (this, is, a, diamond, on, top, of, what, look...   \n",
       "\n",
       "                                            unigrams  \\\n",
       "0  [(look), (for), (a), (diamond), (at), (the), (...   \n",
       "1       [(this), (one), (look), (like), (a), (seal)]   \n",
       "2  [(this), (one), (look), (like), (a), (small), ...   \n",
       "3  [(this), (look), (like), (one), (of), (the), (...   \n",
       "4  [(this), (be), (a), (diamond), (on), (top), (o...   \n",
       "\n",
       "                                             bigrams  \\\n",
       "0  [(look, for), (for, a), (a, diamond), (diamond...   \n",
       "1  [(this, one), (one, look), (look, like), (like...   \n",
       "2  [(this, one), (one, look), (look, like), (like...   \n",
       "3  [(this, look), (look, like), (like, one), (one...   \n",
       "4  [(this, be), (be, a), (a, diamond), (diamond, ...   \n",
       "\n",
       "                                            trigrams  \\\n",
       "0  [(look, for, a), (for, a, diamond), (a, diamon...   \n",
       "1  [(this, one, look), (one, look, like), (look, ...   \n",
       "2  [(this, one, look), (one, look, like), (look, ...   \n",
       "3  [(this, look, like), (look, like, one), (like,...   \n",
       "4  [(this, be, a), (be, a, diamond), (a, diamond,...   \n",
       "\n",
       "                                              tokens  \\\n",
       "0  [looking, for, a, diamond, at, the, top, trian...   \n",
       "1                  [this, one, looks, like, a, seal]   \n",
       "2  [this, one, looks, like, a, small, dog, balanc...   \n",
       "3  [this, looks, like, one, of, the, spy, vs, spy...   \n",
       "4  [this, is, a, diamond, on, top, of, what, look...   \n",
       "\n",
       "                                              lemmas  \\\n",
       "0  [look, for, a, diamond, at, the, top, triangle...   \n",
       "1                   [this, one, look, like, a, seal]   \n",
       "2  [this, one, look, like, a, small, dog, balance...   \n",
       "3  [this, look, like, one, of, the, spy, vs, spy,...   \n",
       "4  [this, be, a, diamond, on, top, of, what, look...   \n",
       "\n",
       "                                                 pos  \\\n",
       "0  [VERB, ADP, DET, NOUN, ADP, DET, NOUN, NOUN, V...   \n",
       "1                 [DET, NUM, VERB, SCONJ, DET, NOUN]   \n",
       "2  [DET, NUM, VERB, SCONJ, DET, ADJ, NOUN, VERB, ...   \n",
       "3  [DET, VERB, SCONJ, NUM, ADP, DET, NOUN, ADP, N...   \n",
       "4  [DET, AUX, DET, NOUN, ADP, NOUN, ADP, PRON, VE...   \n",
       "\n",
       "                                         noun_chunks  numWords  \n",
       "0  [(a, diamond), (the, left), (a, person), (thei...        48  \n",
       "1                                        [(a, seal)]         6  \n",
       "2          [(a, small, dog), (a, ball), (its, nose)]        13  \n",
       "3  [(the, spy), (spy, guys), (a, flag), (his, rig...        21  \n",
       "4  [(a, diamond), (top), (what), (a, state, -, to...        19  "
      ]
     },
     "execution_count": 44,
     "metadata": {},
     "output_type": "execute_result"
    }
   ],
   "source": [
    "d.head()"
   ]
  },
  {
   "cell_type": "code",
   "execution_count": 49,
   "metadata": {},
   "outputs": [],
   "source": [
    "def getCounts(countType, df, gameid, repetitionNum, tangram = None) :\n",
    "    roundCond = 'repetitionNum == ' + repetitionNum\n",
    "    gameidCond = 'gameid == \"' + gameid + '\"'\n",
    "    if(tangram is not None) :\n",
    "        tangramCond = 'tangramRef == \"' + tangram + '\"'\n",
    "        cond = \" and \".join((roundCond, gameidCond, tangramCond))\n",
    "    else :\n",
    "        cond = \" and \".join((roundCond, gameidCond))\n",
    "    relevantRow = df.query(cond)\n",
    "    return Counter([str(item) for sublist in relevantRow[countType]\n",
    "                    for item in sublist])\n",
    "\n",
    "for countType in ['unigrams', 'bigrams', 'trigrams'] :\n",
    "    flattenedContents = [str(item) for sublist in d[countType]\n",
    "                         for item in sublist]\n",
    "    countDict = Counter(flattenedContents)\n",
    "    wordList = [v for (v,count) in countDict.items() if count > 20]\n",
    "    with open('../outputs/' + countType + 'Counts.csv', 'w') as outfile:\n",
    "        writer = csv.writer(outfile)\n",
    "        writer.writerow(['gameid', 'repetitionNum', 'word', 'count'])\n",
    "        for gameid in gameidList:  \n",
    "            for repetitionNum in ['1', '2', '3', '4', '5', '6'] :\n",
    "                counts = getCounts(countType, d, gameid, repetitionNum)\n",
    "                for word in wordList :\n",
    "                    writer.writerow([gameid, repetitionNum, word, counts[word]])"
   ]
  },
  {
   "cell_type": "markdown",
   "metadata": {},
   "source": [
    "# Extract parts of speech"
   ]
  },
  {
   "cell_type": "markdown",
   "metadata": {},
   "source": [
    "## Get counts for each POS label"
   ]
  },
  {
   "cell_type": "code",
   "execution_count": 126,
   "metadata": {},
   "outputs": [
    {
     "name": "stdout",
     "output_type": "stream",
     "text": [
      "{'VERB': 6656, 'ADP': 5657, 'DET': 4390, 'NOUN': 12834, 'PUNCT': 3773, 'ADV': 2346, 'PRON': 1599, 'AUX': 1331, 'CCONJ': 790, 'SCONJ': 1038, 'NUM': 1045, 'ADJ': 2936, 'SYM': 74, 'PROPN': 1559, 'INTJ': 231, 'PART': 288, 'SPACE': 116, 'X': 48}\n"
     ]
    }
   ],
   "source": [
    "tag_dict = {}\n",
    "tag_counts = {}\n",
    "for doc in d['text'] :\n",
    "    for w in doc :\n",
    "        if w.pos_ not in tag_dict :\n",
    "            tag_dict[w.pos_] = w.pos\n",
    "            tag_counts[w.pos_] = 0\n",
    "        tag_counts[w.pos_] = tag_counts[w.pos_] + 1\n",
    "print(tag_counts)\n",
    "d['posCounts'] = [doc.count_by(POS) for doc in d['text']]\n",
    "for posStr in [\"NOUN\", \"PROPN\", \"DET\", \"PRON\", \"VERB\", \"ADJ\", \"CCONJ\", \"ADP\", 'ADV', 'AUX', 'SCONJ', 'NUM'] :\n",
    "    key_id = tag_dict[posStr]\n",
    "    d[posStr + 'count'] = [counts[key_id] if key_id in counts else 0 for counts in d['posCounts']]\n",
    "d['NOUNcount'] = d['NOUNcount'] + d['PROPNcount']"
   ]
  },
  {
   "cell_type": "code",
   "execution_count": 128,
   "metadata": {},
   "outputs": [
    {
     "name": "stdout",
     "output_type": "stream",
     "text": [
      "['DET', 'NOUN', 'VERB', 'ADP', 'PRON', 'NOUN', 'PART', 'DET', 'ADJ', 'NUM']\n",
      "['the', 'man', 'pray', 'on', '-PRON-', 'knee', 'not', 'the', 's', 'one']\n"
     ]
    }
   ],
   "source": [
    "print(d.iloc[-10].pos)\n",
    "print(d.iloc[-10].lemmas)"
   ]
  },
  {
   "cell_type": "markdown",
   "metadata": {},
   "source": [
    "## Export to csv for plotting in R"
   ]
  },
  {
   "cell_type": "code",
   "execution_count": 99,
   "metadata": {},
   "outputs": [],
   "source": [
    "(d.drop([\"tokens\", 'posCounts', 'text', 'lemmas', 'noun_chunks', 'numRawWords', 'PROPNcount'], 1)\n",
    " .to_csv(\"../outputs/posTagged_{}.csv\".format(version_to_use), index = False))"
   ]
  },
  {
   "cell_type": "markdown",
   "metadata": {},
   "source": [
    "# syntactic analyses\n",
    "\n",
    "look at which words are dropped on each round and whether they are more closely related to one another than expected under null model"
   ]
  },
  {
   "cell_type": "code",
   "execution_count": 129,
   "metadata": {},
   "outputs": [],
   "source": [
    "def make_dep_graph(text) :\n",
    "    # Load spacy's dependency tree into a networkx graph\n",
    "    edges = []\n",
    "    for token in text:\n",
    "        for child in token.children:\n",
    "            edges.append(('{0}-{1}'.format(token.lower_,token.i),\n",
    "                          '{0}-{1}'.format(child.lower_,child.i)))\n",
    "\n",
    "    return nx.Graph(edges)\n",
    "\n",
    "def get_shortest_dependency_path (graph, word1, word2) :\n",
    "    # https://networkx.github.io/documentation/networkx-1.10/reference/algorithms.shortest_paths.html\n",
    "    return nx.shortest_path_length(graph, source=word1, target=word2)\n",
    "\n",
    "def flatten(list) :\n",
    "    return [x for y in list for x in y]"
   ]
  },
  {
   "cell_type": "code",
   "execution_count": 159,
   "metadata": {
    "scrolled": true
   },
   "outputs": [
    {
     "name": "stdout",
     "output_type": "stream",
     "text": [
      "running\n"
     ]
    },
    {
     "name": "stderr",
     "output_type": "stream",
     "text": [
      "/Users/rxdh/miniconda3/lib/python3.7/site-packages/ipykernel_launcher.py:11: SettingWithCopyWarning: \n",
      "A value is trying to be set on a copy of a slice from a DataFrame.\n",
      "Try using .loc[row_indexer,col_indexer] = value instead\n",
      "\n",
      "See the caveats in the documentation: http://pandas.pydata.org/pandas-docs/stable/user_guide/indexing.html#returning-a-view-versus-a-copy\n",
      "  # This is added back by InteractiveShellApp.init_path()\n"
     ]
    }
   ],
   "source": [
    "pos_function = ['CCONJ', 'SCONJ', \"PRON\", \"DET\", \"ADP\", \"AUX\", \"PART\"]\n",
    "def get_mean_dependency_lengths(null = None) :\n",
    "    \"\"\"\n",
    "    null can be: \n",
    "        'random' to make baseline where random words are dropped, or \n",
    "        'functionOnly' where function words are dropped\n",
    "    \"\"\"\n",
    "    dependency_lengths = {1: [], 2 : [], 3: [], 4: [], 5: []}\n",
    "    print('running')\n",
    "    for name, df in d.groupby(['gameid', 'intendedName']) :\n",
    "        df['next_lemmas'] = df['lemmas'].shift(-1)\n",
    "        for _, row in df.iloc[0:-1].iterrows() :\n",
    "            # handle case where we've auto-parsed single message into multiple 'sentences'\n",
    "            for i, sent in enumerate(row['text'].sents):\n",
    "                graph = make_dep_graph(sent)\n",
    "                dropped_words = ['{}-{}'.format(token.lower_,token.i) for token in sent\n",
    "                                 if token.lemma_ not in row['next_lemmas'] and not token.is_punct]\n",
    "                # for null model, we randomly sample words instead of using the real dropped ones\n",
    "                if null == 'random' : \n",
    "                    num_words_dropped = len(dropped_words)\n",
    "                    random_words = np.random.choice([token.lemma_ for token in sent], \n",
    "                                                    num_words_dropped, replace=False)\n",
    "                    dropped_words = ['{}-{}'.format(token.lower_,token.i) for token in sent\n",
    "                                     if token.lemma_ in random_words]\n",
    "                elif null == 'functionOnly' : \n",
    "                    num_words_dropped = len(dropped_words)\n",
    "                    function_words = [token.lemma_ for token in sent if token.pos_ in pos_function]\n",
    "                    non_function_words = [token.lemma_ for token in sent if token.pos_ not in pos_function]\n",
    "                    random_function_words = np.random.choice(function_words, min(num_words_dropped, len(function_words)), replace=False)\n",
    "                    if len(random_function_words) < num_words_dropped : \n",
    "                        random_function_words = np.append(random_function_words,\n",
    "                                  np.random.choice(non_function_words, num_words_dropped - len(random_function_words), replace=False))\n",
    "                    assert(len(random_function_words) == num_words_dropped)\n",
    "                    dropped_words = ['{}-{}'.format(token.lower_,token.i) for token in sent\n",
    "                                     if token.lemma_ in random_function_words]\n",
    "                for word1, word2 in combinations(dropped_words, 2) :\n",
    "                    try:\n",
    "                        dep_length = get_shortest_dependency_path(graph, word1,word2) \n",
    "                        dependency_lengths[row.repetitionNum].append(dep_length)\n",
    "                    except :\n",
    "                        nx.draw(graph)\n",
    "                        plt.show()\n",
    "    return {k: np.array(v).mean() for k,v in dependency_lengths.items()}\n",
    "true = get_mean_dependency_lengths(null = False)"
   ]
  },
  {
   "cell_type": "code",
   "execution_count": 1,
   "metadata": {},
   "outputs": [
    {
     "ename": "NameError",
     "evalue": "name 'true' is not defined",
     "output_type": "error",
     "traceback": [
      "\u001b[0;31m---------------------------------------------------------------------------\u001b[0m",
      "\u001b[0;31mNameError\u001b[0m                                 Traceback (most recent call last)",
      "\u001b[0;32m<ipython-input-1-724ba28f4a9a>\u001b[0m in \u001b[0;36m<module>\u001b[0;34m\u001b[0m\n\u001b[0;32m----> 1\u001b[0;31m \u001b[0mtrue\u001b[0m\u001b[0;34m\u001b[0m\u001b[0;34m\u001b[0m\u001b[0m\n\u001b[0m",
      "\u001b[0;31mNameError\u001b[0m: name 'true' is not defined"
     ]
    }
   ],
   "source": [
    "true"
   ]
  },
  {
   "cell_type": "code",
   "execution_count": 132,
   "metadata": {
    "collapsed": true,
    "jupyter": {
     "outputs_hidden": true
    }
   },
   "outputs": [
    {
     "name": "stdout",
     "output_type": "stream",
     "text": [
      "running\n"
     ]
    },
    {
     "name": "stderr",
     "output_type": "stream",
     "text": [
      "/Users/rxdh/miniconda3/lib/python3.7/site-packages/ipykernel_launcher.py:11: SettingWithCopyWarning: \n",
      "A value is trying to be set on a copy of a slice from a DataFrame.\n",
      "Try using .loc[row_indexer,col_indexer] = value instead\n",
      "\n",
      "See the caveats in the documentation: http://pandas.pydata.org/pandas-docs/stable/user_guide/indexing.html#returning-a-view-versus-a-copy\n",
      "  # This is added back by InteractiveShellApp.init_path()\n"
     ]
    },
    {
     "name": "stdout",
     "output_type": "stream",
     "text": [
      "4.8473721656819375\n",
      "running\n",
      "4.834049211511321\n",
      "running\n",
      "4.829410779345869\n",
      "running\n",
      "4.862759643916914\n",
      "running\n",
      "4.858828103418287\n",
      "running\n",
      "4.834392728477369\n",
      "running\n",
      "4.837729981860585\n",
      "running\n",
      "4.82808591033187\n",
      "running\n",
      "4.881210298585326\n",
      "running\n",
      "4.846790633181221\n",
      "running\n",
      "4.822295851596419\n",
      "running\n",
      "4.835956657514723\n",
      "running\n",
      "4.863932898415657\n",
      "running\n",
      "4.851657831826214\n",
      "running\n",
      "4.8454417283489875\n",
      "running\n",
      "4.817258458026617\n",
      "running\n",
      "4.840328296959522\n",
      "running\n",
      "4.826668596476718\n",
      "running\n",
      "4.8490438858470215\n",
      "running\n",
      "4.856761825380287\n",
      "running\n",
      "4.834087090015144\n",
      "running\n",
      "4.850790074718643\n",
      "running\n",
      "4.864974787823453\n",
      "running\n",
      "4.858877856351532\n",
      "running\n",
      "4.833404479057128\n",
      "running\n",
      "4.8570421220731275\n",
      "running\n",
      "4.850550646098265\n",
      "running\n",
      "4.838457250221956\n",
      "running\n",
      "4.836284702387752\n",
      "running\n",
      "4.8448385185493175\n",
      "running\n",
      "4.8441807874601155\n",
      "running\n",
      "4.862364256903506\n",
      "running\n",
      "4.861945695747407\n",
      "running\n",
      "4.846691057673265\n",
      "running\n",
      "4.808583673129733\n",
      "running\n",
      "4.843788463544383\n",
      "running\n",
      "4.835678961467134\n",
      "running\n",
      "4.822816660307509\n",
      "running\n",
      "4.850769262583233\n",
      "running\n",
      "4.829653062498699\n",
      "running\n",
      "4.864008891566515\n",
      "running\n",
      "4.849682041541066\n",
      "running\n",
      "4.833568627450981\n",
      "running\n",
      "4.8472639374614275\n",
      "running\n",
      "4.851930668640513\n",
      "running\n",
      "4.860459295413303\n",
      "running\n",
      "4.84148527263497\n",
      "running\n",
      "4.856989113787822\n",
      "running\n",
      "4.792581767717653\n",
      "running\n",
      "4.840725847814045\n",
      "running\n",
      "4.831225706412983\n",
      "running\n",
      "4.867489627618706\n",
      "running\n",
      "4.869703389830509\n",
      "running\n",
      "4.858347781744008\n",
      "running\n",
      "4.854123700602046\n",
      "running\n",
      "4.813958119353554\n",
      "running\n",
      "4.875077284530728\n",
      "running\n",
      "4.857348599409519\n",
      "running\n",
      "4.856164737762057\n",
      "running\n",
      "4.840115861048912\n",
      "running\n",
      "4.85384566942357\n",
      "running\n",
      "4.8541690074667265\n",
      "running\n",
      "4.8203085338941785\n",
      "running\n",
      "4.840848311462156\n",
      "running\n",
      "4.857668192006941\n",
      "running\n",
      "4.815351421215564\n",
      "running\n",
      "4.815981910402556\n",
      "running\n",
      "4.814828330431338\n",
      "running\n",
      "4.8511879094026575\n",
      "running\n",
      "4.856429566204158\n",
      "running\n",
      "4.86098743548303\n",
      "running\n",
      "4.838670231507389\n",
      "running\n",
      "4.807072153396003\n",
      "running\n",
      "4.8664339079564\n",
      "running\n",
      "4.838659440603003\n",
      "running\n",
      "4.844544295467632\n",
      "running\n",
      "4.851104447879813\n",
      "running\n",
      "4.842076645579548\n",
      "running\n",
      "4.868865556978233\n",
      "running\n",
      "4.853800512658164\n",
      "running\n",
      "4.866929404057525\n",
      "running\n",
      "4.859907843559824\n",
      "running\n",
      "4.841713358119076\n",
      "running\n",
      "4.82310315872407\n",
      "running\n",
      "4.861773674756673\n",
      "running\n",
      "4.839464917977834\n",
      "running\n",
      "4.813724266999376\n",
      "running\n",
      "4.855734112490869\n",
      "running\n",
      "4.83640117509296\n",
      "running\n",
      "4.851536274137418\n",
      "running\n",
      "4.831326302665073\n",
      "running\n",
      "4.851201363485202\n",
      "running\n",
      "4.8511369452365285\n",
      "running\n",
      "4.844464718933377\n",
      "running\n",
      "4.828418034923117\n",
      "running\n",
      "4.877405669078313\n",
      "running\n",
      "4.837350664647484\n",
      "running\n",
      "4.822353850115889\n",
      "running\n",
      "4.838699687206433\n",
      "running\n",
      "4.830923387814506\n"
     ]
    }
   ],
   "source": [
    "random_null = [get_mean_dependency_lengths(null = 'random') for i in range(100)]"
   ]
  },
  {
   "cell_type": "code",
   "execution_count": 160,
   "metadata": {
    "collapsed": true,
    "jupyter": {
     "outputs_hidden": true
    }
   },
   "outputs": [
    {
     "name": "stdout",
     "output_type": "stream",
     "text": [
      "running\n"
     ]
    },
    {
     "name": "stderr",
     "output_type": "stream",
     "text": [
      "/Users/rxdh/miniconda3/lib/python3.7/site-packages/ipykernel_launcher.py:11: SettingWithCopyWarning: \n",
      "A value is trying to be set on a copy of a slice from a DataFrame.\n",
      "Try using .loc[row_indexer,col_indexer] = value instead\n",
      "\n",
      "See the caveats in the documentation: http://pandas.pydata.org/pandas-docs/stable/user_guide/indexing.html#returning-a-view-versus-a-copy\n",
      "  # This is added back by InteractiveShellApp.init_path()\n",
      "/Users/rxdh/miniconda3/lib/python3.7/site-packages/ipykernel_launcher.py:35: FutureWarning: elementwise comparison failed; returning scalar instead, but in the future will perform elementwise comparison\n"
     ]
    },
    {
     "name": "stdout",
     "output_type": "stream",
     "text": [
      "running\n",
      "running\n",
      "running\n",
      "running\n",
      "running\n",
      "running\n",
      "running\n",
      "running\n",
      "running\n",
      "running\n",
      "running\n",
      "running\n",
      "running\n",
      "running\n",
      "running\n",
      "running\n",
      "running\n",
      "running\n",
      "running\n",
      "running\n",
      "running\n",
      "running\n",
      "running\n",
      "running\n",
      "running\n",
      "running\n",
      "running\n",
      "running\n",
      "running\n",
      "running\n",
      "running\n",
      "running\n",
      "running\n",
      "running\n",
      "running\n",
      "running\n",
      "running\n",
      "running\n",
      "running\n",
      "running\n",
      "running\n",
      "running\n",
      "running\n",
      "running\n",
      "running\n",
      "running\n",
      "running\n",
      "running\n",
      "running\n",
      "running\n",
      "running\n",
      "running\n",
      "running\n",
      "running\n",
      "running\n",
      "running\n",
      "running\n",
      "running\n",
      "running\n",
      "running\n",
      "running\n",
      "running\n",
      "running\n",
      "running\n",
      "running\n",
      "running\n",
      "running\n",
      "running\n",
      "running\n",
      "running\n",
      "running\n",
      "running\n",
      "running\n",
      "running\n",
      "running\n",
      "running\n",
      "running\n",
      "running\n",
      "running\n",
      "running\n",
      "running\n",
      "running\n",
      "running\n",
      "running\n",
      "running\n",
      "running\n",
      "running\n",
      "running\n",
      "running\n",
      "running\n",
      "running\n",
      "running\n",
      "running\n",
      "running\n",
      "running\n",
      "running\n",
      "running\n",
      "running\n",
      "running\n"
     ]
    }
   ],
   "source": [
    "function_null = [get_mean_dependency_lengths(null = 'functionOnly') for i in range(100)]\n"
   ]
  },
  {
   "cell_type": "code",
   "execution_count": 161,
   "metadata": {},
   "outputs": [
    {
     "name": "stdout",
     "output_type": "stream",
     "text": [
      "[['0' '1' '4.688764546646945' 'true']\n",
      " ['0' '2' '3.9803159173754556' 'true']\n",
      " ['0' '3' '3.8969906355123194' 'true']\n",
      " ...\n",
      " ['99' '3' '4.14813695109969' 'function']\n",
      " ['99' '4' '3.3442191203581775' 'function']\n",
      " ['99' '5' '3.143424711958681' 'function']]\n"
     ]
    }
   ],
   "source": [
    "true_rows = np.array([[0, k, v, 'true'] for k,v in true.items()])\n",
    "random_rows =  np.array([[i, k, v, 'random']  for i,rs in enumerate(random_null) for k,v in rs.items()])\n",
    "function_rows = np.array([[i, k, v, 'function']  for i,rs in enumerate(function_null) for k,v in rs.items()])\n",
    "rows = np.vstack([true_rows, random_rows, function_rows])\n",
    "print(rows)"
   ]
  },
  {
   "cell_type": "code",
   "execution_count": 162,
   "metadata": {},
   "outputs": [],
   "source": [
    "(pd.DataFrame(rows, columns = ['sampleNum', 'repetitionNum', 'value', 'baselineName'])\n",
    "   .to_csv('../outputs/permuted_dependency_distribution.csv'))"
   ]
  },
  {
   "cell_type": "markdown",
   "metadata": {},
   "source": [
    "# Supplemental analyses"
   ]
  },
  {
   "cell_type": "code",
   "execution_count": null,
   "metadata": {},
   "outputs": [],
   "source": [
    "from allennlp.models.archival import load_archive\n",
    "from allennlp.predictors import Predictor\n",
    "from nltk import Tree\n",
    "archive = load_archive(\n",
    "            \"https://s3-us-west-2.amazonaws.com/allennlp/models/elmo-constituency-parser-2018.03.14.tar.gz\"\n",
    "        )\n",
    "predictor = Predictor.from_archive(archive, 'constituency-parser')"
   ]
  },
  {
   "cell_type": "markdown",
   "metadata": {},
   "source": [
    "## Compute edit distances on successive rounds"
   ]
  },
  {
   "cell_type": "markdown",
   "metadata": {},
   "source": [
    "TODO: it would be nice to use an algorithm like Selkow that uses operations for deleting entire subtrees at once (rather than attaching children to parent, which means that deleting a whole subtree requires as many operations as there are *nodes* in that subtree)\n",
    "\n",
    "see http://www.aclweb.org/anthology/R13-1002 for a way of altering ZS output"
   ]
  },
  {
   "cell_type": "code",
   "execution_count": null,
   "metadata": {},
   "outputs": [],
   "source": [
    "def label_distance (label1, label2) :\n",
    "    if label1 == label2 :\n",
    "        return 0\n",
    "    else :\n",
    "        return 1\n",
    "\n",
    "def get_root(doc) :\n",
    "    asdf = dict(('label' if key == 'nodeType' else key, value) for (key, value) in doc.items())\n",
    "    return asdf\n",
    "\n",
    "def get_children(subtree) :\n",
    "    if 'children' in subtree.keys() :\n",
    "        return [dict(('label' if key == 'nodeType' else key, value) for (key, value) in d.items()) for d in subtree['children']]\n",
    "    else :\n",
    "        return []\n",
    "\n",
    "def get_label(node) :\n",
    "    return node['label']\n",
    "\n",
    "def edit_distance(tree1, tree2, return_operations = False) :\n",
    "    return simple_distance(get_root(tree1), get_root(tree2), \n",
    "                           get_children, get_label, label_distance, return_operations=return_operations)\n",
    "\n",
    "def example() :\n",
    "    s1 = predictor.predict_json({\"sentence\": \"I am a cat with a big bone\"})\n",
    "    s2 = predictor.predict_json({\"sentence\": \"I am a cat\"})\n",
    "    ed = edit_distance(s1['hierplane_tree']['root'], s2['hierplane_tree']['root'], return_operations=True)\n",
    "    print('tree1:', Tree.fromstring(s1['trees']))\n",
    "    print('tree2:', Tree.fromstring(s2['trees']))\n",
    "    print('operations:', ed[1])\n",
    "    print('cost:', ed[0])"
   ]
  },
  {
   "cell_type": "markdown",
   "metadata": {},
   "source": [
    "Ideally, we could use an algorithm that would give a cost of 1 for this example"
   ]
  },
  {
   "cell_type": "code",
   "execution_count": null,
   "metadata": {},
   "outputs": [],
   "source": [
    "Tree.fromstring(predictor.predict_json({\"sentence\" : \"a guy who looks like one of those wavy tube guys leaning towards the left\"})['trees'])"
   ]
  },
  {
   "cell_type": "code",
   "execution_count": null,
   "metadata": {},
   "outputs": [],
   "source": [
    "from IPython.display import clear_output\n",
    "\n",
    "tiny_d = d[['gameid', 'repetitionNum', 'contents', 'intendedName']]\n",
    "parses = []\n",
    "for i, s in enumerate(tiny_d['contents']) :\n",
    "    clear_output(wait=True)\n",
    "    print(i, '/', len(tiny_d['contents']))\n",
    "    parses.append(predictor.predict_json({'sentence' : s})['hierplane_tree']['root'])\n",
    "tiny_d['tree_parse'] = parses"
   ]
  },
  {
   "cell_type": "code",
   "execution_count": null,
   "metadata": {},
   "outputs": [],
   "source": [
    "def finditem(obj, value, initLevel = True):\n",
    "    if obj['nodeType'] == value and not initLevel:\n",
    "        return True\n",
    "    elif 'children' in obj :\n",
    "        for child in obj['children'] :\n",
    "            item = finditem(child, value, initLevel = False)\n",
    "            if item is not None:\n",
    "                return item\n",
    "tiny_d['SBAR'] = [finditem(s, 'SBAR') for s in tiny_d['tree_parse']]\n",
    "tiny_d['PP'] = [finditem(s, 'PP') for s in tiny_d['tree_parse']]\n",
    "tiny_d['CC'] = [finditem(s, 'CC') for s in tiny_d['tree_parse']]\n",
    "tiny_d['NP'] = [finditem(s, 'NP') for s in tiny_d['tree_parse']]"
   ]
  },
  {
   "cell_type": "code",
   "execution_count": null,
   "metadata": {},
   "outputs": [],
   "source": [
    "tiny_d.to_json('./outputs/constituency_parses.json')\n",
    "tiny_d.drop('tree_parse', 1).to_csv('./outputs/constituency_tags.csv')"
   ]
  },
  {
   "cell_type": "code",
   "execution_count": null,
   "metadata": {},
   "outputs": [],
   "source": [
    "tiny_d = pd.read_json('./outputs/constituency_parses.json')"
   ]
  },
  {
   "cell_type": "code",
   "execution_count": null,
   "metadata": {
    "scrolled": true
   },
   "outputs": [],
   "source": [
    "gameids = np.unique(tiny_d['gameid'])\n",
    "tangramids = np.unique(tiny_d['intendedName'])\n",
    "\n",
    "transitions = np.zeros([len(gameids), len(tangramids) ,5])\n",
    "for i, gameid in enumerate(gameids) :\n",
    "    clear_output(wait=True)\n",
    "    print(i, '/', len(gameids))\n",
    "    game_d = tiny_d.query('gameid == \"{0}\"'.format(gameid))\n",
    "    for j, intendedName in enumerate(tangramids) :\n",
    "        for k, init_occurrenceNum in enumerate(range(1,6)) :\n",
    "            dist = []\n",
    "            sub1 = game_d.query('intendedName == \"{0}\" and repetitionNum == {1}'.format(intendedName, init_occurrenceNum))['tree_parse']\n",
    "            sub2 = game_d.query('intendedName == \"{0}\" and repetitionNum == {1}'.format(\n",
    "                intendedName, init_occurrenceNum+1\n",
    "            ))['tree_parse']\n",
    "            for tree1 in sub1 :\n",
    "                for tree2 in sub2 :\n",
    "                    dist.append(edit_distance(tree1, tree2))\n",
    "            transitions[i, j, k] = np.max(dist) if dist else np.nan"
   ]
  },
  {
   "cell_type": "markdown",
   "metadata": {},
   "source": [
    "TODO: normalized by tree size\n",
    "TODO: maybe can show this more straightforward by doing permutation test thing on POS tags instead of words"
   ]
  },
  {
   "cell_type": "code",
   "execution_count": null,
   "metadata": {},
   "outputs": [],
   "source": [
    "np.nanmean(transitions, axis=0)"
   ]
  },
  {
   "cell_type": "markdown",
   "metadata": {},
   "source": [
    "### Across-game version\n",
    "Instead of looking at edit distance from round $i$ to $i + 1$ for pair $j$, we look at average edit distances between pairs $j$ to $j+1$ on round $i$."
   ]
  },
  {
   "cell_type": "code",
   "execution_count": null,
   "metadata": {},
   "outputs": [],
   "source": [
    "import random\n",
    "print(random.sample([1,2], len([1,2])))"
   ]
  },
  {
   "cell_type": "code",
   "execution_count": null,
   "metadata": {},
   "outputs": [],
   "source": [
    "acrossgame = np.zeros([len(tangramids),6, len(gameids)])\n",
    "shuffled_gameids = random.sample(list(gameids), len(gameids))\n",
    "for i, intendedName in enumerate(tangramids) :\n",
    "    clear_output(wait=True)\n",
    "    print(i, '/', len(tangramids))\n",
    "    for repetitionNum in range(1,7) :\n",
    "        mini_d = tiny_d.query('intendedName == \"{0}\" and repetitionNum == {1}'.format(intendedName, repetitionNum))      \n",
    "        for k in range(len(gameids) -1) :\n",
    "            dist = []\n",
    "#            print(gameids[k], 'to', gameids[k+1])\n",
    "            sub1 = mini_d.query('gameid == \"{0}\"'.format(gameids[k]))['tree_parse']\n",
    "            sub2 = mini_d.query('gameid == \"{0}\"'.format(gameids[k+1]))['tree_parse']\n",
    "            for tree1 in sub1 :\n",
    "                for tree2 in sub2 :\n",
    "                    dist.append(edit_distance(tree1, tree2))\n",
    "#             print(sub1)\n",
    "#             print(sub2)\n",
    "            acrossgame[i, repetitionNum-1, k] = np.max(dist) if dist else np.nan"
   ]
  },
  {
   "cell_type": "code",
   "execution_count": null,
   "metadata": {},
   "outputs": [],
   "source": [
    "np.nanmean(acrossgame, axis=2)"
   ]
  },
  {
   "cell_type": "markdown",
   "metadata": {},
   "source": [
    "# Calculate indicator words for tangrams/rounds"
   ]
  },
  {
   "cell_type": "markdown",
   "metadata": {},
   "source": [
    "## First, get list of words in first round"
   ]
  },
  {
   "cell_type": "code",
   "execution_count": null,
   "metadata": {},
   "outputs": [],
   "source": [
    "# Filter down to first round\n",
    "d_round1 = d[d['repetitionNum'] == 1]\n",
    "\n",
    "# Pull out all tokens and collapse into count dict\n",
    "tokenDict = Counter([item for sublist in d_round1['tokens'].tolist()\n",
    "                     for item in sublist])\n",
    "# Pull out all words that occur more than once\n",
    "wordList = [word for (word,count) in tokenDict.items() if count > 1 and not word.isdigit()]\n",
    "print(wordList[0:10])\n",
    "print(len(wordList))\n",
    "\n",
    "# Get POS map; will be longer because it doesn't require count > 1, but it doesn't matter\n",
    "POSdict = {word.text: word.pos_ for text in d_round1['text'] for word in text}\n",
    "print(len(POSdict.keys()))"
   ]
  },
  {
   "cell_type": "markdown",
   "metadata": {},
   "source": [
    "## Helper functions to select words & counts"
   ]
  },
  {
   "cell_type": "code",
   "execution_count": null,
   "metadata": {},
   "outputs": [],
   "source": [
    "def getWordCounts(df, gameid, occurrenceNum, tangram = None) :\n",
    "    roundCond = 'repetitionNum == ' + occurrenceNum\n",
    "    gameidCond = 'gameid == \"' + gameid + '\"'\n",
    "    if(tangram is not None) :\n",
    "        tangramCond = 'intendedName == \"' + tangram + '\"'\n",
    "        cond = \" and \".join((roundCond, gameidCond, tangramCond))\n",
    "    else :\n",
    "        cond = \" and \".join((roundCond, gameidCond))\n",
    "    relevantRow = df.query(cond)\n",
    "    return Counter([item for sublist in relevantRow['tokens'].tolist() \n",
    "                    for item in sublist])\n",
    "\n",
    "#creates mini dataframe that grabs the words used in round n for a given tangram and gameid\n",
    "def selectTangramRoundWords(df, tangram, roundNum, gameid):\n",
    "    wordCounts = getWordCounts(df, gameid, roundNum, tangram)\n",
    "    return list(wordCounts.keys())"
   ]
  }
 ],
 "metadata": {
  "anaconda-cloud": {},
  "kernelspec": {
   "display_name": "Python 3",
   "language": "python",
   "name": "python3"
  },
  "language_info": {
   "codemirror_mode": {
    "name": "ipython",
    "version": 3
   },
   "file_extension": ".py",
   "mimetype": "text/x-python",
   "name": "python",
   "nbconvert_exporter": "python",
   "pygments_lexer": "ipython3",
   "version": "3.7.4"
  }
 },
 "nbformat": 4,
 "nbformat_minor": 4
}
